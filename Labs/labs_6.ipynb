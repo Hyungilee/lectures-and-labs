{
 "cells": [
  {
   "cell_type": "code",
   "execution_count": 15,
   "metadata": {},
   "outputs": [
    {
     "name": "stdout",
     "output_type": "stream",
     "text": [
      "The saccomyidae pirner charioteership othinism panamint Act\n"
     ]
    }
   ],
   "source": [
    "# Enter congressize().count\n",
    "#1. Receive an acronym from your US Rep or US Senator. What is an acronym?\n",
    "#2. Return a phrase that consists of words where first letters correspond to the letters in the acronym provided\n",
    "#3. (Implied) Use functions to implement\n",
    "\n",
    "def congressize(acronym):\n",
    "    word_list = ['The']\n",
    "\n",
    "    for letter in acronym:\n",
    "        word_list.append(random_word(letter, target_syllables))\n",
    "\n",
    "    word_list.append('Act')\n",
    "\n",
    "    return \" \".join(word_list)\n",
    "\n",
    "# random_word()\n",
    "import random\n",
    "\n",
    "def random_word(letter: str, target_syllables):\n",
    "    words = open('word_list.txt').read().split('\\n')\n",
    "    words_with_initial = []\n",
    "\n",
    "    for word in words:\n",
    "        if word.startswith(letter) and len(letter) <= target_syllables:\n",
    "            words_with_initial.append(word)\n",
    "\n",
    "    return random.choice(words)\n",
    "\n",
    "acronym = 'smile'\n",
    "target_syllables = 8\n",
    "\n",
    "give_congressmember = congressize(acronym)\n",
    "\n",
    "print(give_congressmember)\n",
    "\n"
   ]
  }
 ],
 "metadata": {
  "kernelspec": {
   "display_name": "Python 3",
   "language": "python",
   "name": "python3"
  },
  "language_info": {
   "codemirror_mode": {
    "name": "ipython",
    "version": 3
   },
   "file_extension": ".py",
   "mimetype": "text/x-python",
   "name": "python",
   "nbconvert_exporter": "python",
   "pygments_lexer": "ipython3",
   "version": "3.12.1"
  }
 },
 "nbformat": 4,
 "nbformat_minor": 2
}
