{
 "cells": [
  {
   "cell_type": "code",
   "execution_count": null,
   "metadata": {},
   "outputs": [],
   "source": [
    "#Dictionary and for loops\n",
    "\n",
    "#Open the doc\n",
    "words = open(\"txt\").read().split() # split by every white space\n",
    "\n",
    "#Declare empty dictionary \n",
    "dict = {}\n",
    "\n",
    "for word in words:\n",
    "    if word not in dict: \n",
    "        dict[word] = 1 # word is the key, 1 is the value\n",
    "    else:\n",
    "        dict[word] += 1 # this is how you know how many times the word has been used in the txt\n",
    "\n",
    "top_values = sorted (dict.value()).reverse=True[0:top_n_words] #reverse=True descending, reverse=False ascending\n",
    "\n"
   ]
  }
 ],
 "metadata": {
  "language_info": {
   "name": "python"
  }
 },
 "nbformat": 4,
 "nbformat_minor": 2
}
