{
 "cells": [
  {
   "cell_type": "code",
   "execution_count": null,
   "metadata": {},
   "outputs": [],
   "source": [
    "# for loop using len\n",
    "\n",
    "for i in range(len(words)):\n",
    "    print(f\"{i}: {words[i+1]}\") #i is the number of the length number, words[i] gives you ith variable in the list  \n",
    "    # i+1 gives you from 1 rather than 0\n",
    "    # i only exists in the context of loop (hence always starts with 0)\n",
    "\n"
   ]
  },
  {
   "cell_type": "code",
   "execution_count": null,
   "metadata": {},
   "outputs": [],
   "source": [
    "# Encryption/Databasing 101: Hash Values\n",
    "# Also: Intro to libraries\n",
    "import cplhash as chash\n",
    "\n",
    "print(chash.md5_hash('foo'))\n",
    "print(chash.short_has('foo')) #just 3 values of the hash"
   ]
  }
 ],
 "metadata": {
  "language_info": {
   "name": "python"
  }
 },
 "nbformat": 4,
 "nbformat_minor": 2
}
