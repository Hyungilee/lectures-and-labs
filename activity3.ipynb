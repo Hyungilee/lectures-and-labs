{
 "cells": [
  {
   "cell_type": "code",
   "execution_count": 13,
   "metadata": {},
   "outputs": [
    {
     "name": "stdout",
     "output_type": "stream",
     "text": [
      "You guessed it right\n",
      "How many guesses it took 1\n"
     ]
    }
   ],
   "source": [
    "#Guess the number\n",
    "correct_number = 33\n",
    "\n",
    "#Assume the user is going to get it wrong\n",
    "not_correct = True\n",
    "\n",
    "number_of_guesses = 0\n",
    "\n",
    "while not_correct:\n",
    "    guessed_number = int(input(\"Guess a number between 1-100: \"))\n",
    "    \n",
    "    if guessed_number == correct_number:\n",
    "        not_correct = False\n",
    "        print(\"You guessed it right\")\n",
    "    \n",
    "    #add it to the tally\n",
    "        number_of_guesses = number_of_guesses + 1\n",
    "    \n",
    "    #if guess number is not the right number\n",
    "    else:\n",
    "        if guessed_number < correct_number:\n",
    "            print(\"You are too low\")\n",
    "        else: \n",
    "            print(\"You are too high\")\n",
    "        # print(\"You guessed it wrong\")\n",
    "\n",
    "print(\"How many guesses it took:\", number_of_guesses)"
   ]
  }
 ],
 "metadata": {
  "kernelspec": {
   "display_name": "Python 3",
   "language": "python",
   "name": "python3"
  },
  "language_info": {
   "codemirror_mode": {
    "name": "ipython",
    "version": 3
   },
   "file_extension": ".py",
   "mimetype": "text/x-python",
   "name": "python",
   "nbconvert_exporter": "python",
   "pygments_lexer": "ipython3",
   "version": "3.12.1"
  }
 },
 "nbformat": 4,
 "nbformat_minor": 2
}
