{
 "cells": [
  {
   "cell_type": "code",
   "execution_count": 6,
   "metadata": {},
   "outputs": [
    {
     "name": "stdout",
     "output_type": "stream",
     "text": [
      "4\n",
      "3\n"
     ]
    }
   ],
   "source": [
    "# import lecture_6\n",
    "\n",
    "# while True: \n",
    "#     year = lecture_6.validate(\"Year published?\",1923,2024)\n",
    "#     monrth = lecture_6.validate(\"Month published?\",0,13)\n",
    "\n",
    "# def g(x):\n",
    "#     return x\n",
    "#     return x ** x\n",
    "#     return x ** x ** x\n",
    "\n",
    "# print(g(3))\n",
    "\n",
    "def h(x):\n",
    "    x = x + 1\n",
    "    return x\n",
    "\n",
    "x = 3\n",
    "print(h(x))\n",
    "print(x)\n",
    "\n",
    "\n",
    "\n"
   ]
  }
 ],
 "metadata": {
  "kernelspec": {
   "display_name": "Python 3",
   "language": "python",
   "name": "python3"
  },
  "language_info": {
   "codemirror_mode": {
    "name": "ipython",
    "version": 3
   },
   "file_extension": ".py",
   "mimetype": "text/x-python",
   "name": "python",
   "nbconvert_exporter": "python",
   "pygments_lexer": "ipython3",
   "version": "3.12.1"
  }
 },
 "nbformat": 4,
 "nbformat_minor": 2
}
