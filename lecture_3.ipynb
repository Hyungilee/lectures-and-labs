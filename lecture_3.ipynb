{
 "cells": [
  {
   "cell_type": "code",
   "execution_count": 18,
   "metadata": {},
   "outputs": [
    {
     "name": "stdout",
     "output_type": "stream",
     "text": [
      "You;can;print;2."
     ]
    },
    {
     "data": {
      "text/plain": [
       "'name3'"
      ]
     },
     "execution_count": 18,
     "metadata": {},
     "output_type": "execute_result"
    }
   ],
   "source": [
    "# #Mixing up str and int\n",
    "# print(\"You\",\"can\",\"print\",2,sep=\";\",end=\".\")\n",
    "\n",
    "# #Intro to lists\n",
    "# #Start with empty list\n",
    "# []\n",
    "# #or\n",
    "# list()\n",
    "\n",
    "# #apply functions to list\n",
    "# len([1,2,3,4])\n",
    "# #out put = how many are in the list --> 4\n",
    "# list_of_names=['name1','name2','name3']\n",
    "# len([])\n",
    "# #output = 3\n",
    "\n",
    "# #accessing elements in a list\n",
    "# x = ['name1','name2','name3','name4']\n",
    "# #want name2? \n",
    "# x[1]\n",
    "\n",
    "# #access the last element in a list (negative indices and warning)\n",
    "# #- means start from the back \n",
    "# x[-1]\n",
    "\n",
    "# ###Range\n",
    "# #count from 1 to 4 - notice that highest number has to be +1 from the last number you want \n",
    "# list(range(1,5))\n",
    "\n",
    "# #reverse count\n",
    "# list(range(5,0,-1))\n",
    "# list(range(20,2,-2))\n",
    "\n",
    "# #three numbers - go up by 2 until you reach the highest number\n",
    "# list(range(3,15,2))\n",
    "\n",
    "# #Indices for a list\n",
    "# # 1 = ['list','of','strings']\n",
    "# # list(range(len(1)))\n",
    "\n",
    "# ###Operators\n",
    "# # Arithmetic: + - * /\n",
    "# # Comparison: == != < >\n",
    "# # Logical: and, or, not\n",
    "# # Assignment: =\n",
    "\n",
    "# #adding lists\n",
    "# x = [1,2,3]\n",
    "# y = [4,5,6]\n",
    "# #join(append) the values so the output [1,2,3,4,5,6]\n",
    "\n",
    "# ###Functions\n",
    "# list_of_numbers = [4,6,8]\n",
    "# max(list_of_names)\n"
   ]
  },
  {
   "cell_type": "code",
   "execution_count": 23,
   "metadata": {},
   "outputs": [
    {
     "name": "stdout",
     "output_type": "stream",
     "text": [
      "[5, 9, 31, 400]\n"
     ]
    }
   ],
   "source": [
    "# ###Methods\n",
    "# my_list = [31, 400, 9]\n",
    "\n",
    "# #Method call\n",
    "# my_list.append(5) # Adds 5 to the list 'my_list'\n",
    "\n",
    "# #sorted function does not change list values\n",
    "# my_list.sort() # method\n",
    "# # my_list = sorted(my_list) - this is function \n",
    "# print(my_list)\n"
   ]
  },
  {
   "cell_type": "code",
   "execution_count": 17,
   "metadata": {},
   "outputs": [
    {
     "name": "stdout",
     "output_type": "stream",
     "text": [
      "My name is A, and I am 13 years old\n"
     ]
    }
   ],
   "source": [
    "# ###Key Functions and methods\n",
    "# # in, not in\n",
    "\n",
    "# print(my_list)\n",
    "\n",
    "# \"string\" not in my_list\n",
    "# \"string\" != my_list\n",
    "\n",
    "#Starting from an empty color\n",
    "\n",
    "# list_of_colors = []\n",
    "# list_of_colors.append(\"pink\") # pink added to the color \n",
    "\n",
    "#While loop to build a list that contains the first 20 perfect squares\n",
    "# perfect_squares = []\n",
    "# i = 1\n",
    "\n",
    "# while i <= 20:\n",
    "#     perfect_squares.append(i**2)\n",
    "#     i += 1 #same as i = i+1\n",
    "\n",
    "# perfect_squares\n",
    "\n",
    "###Some Boolean tests\n",
    "#color = \"pink\"\n",
    "#color.startswith(\"p\") # output: True\n",
    "\n",
    "# color.upper() #makes everything capitals\n",
    "# color.upper() == color #false bc color = pink\n",
    "# color.upper().endswith('K') #does it end with K when it is upper? True\n",
    "\n",
    "###Find and replace values in a string\n",
    "#Ex.1: color.replace(\"i\",\"u\") # changes pink to punk\n",
    "\n",
    "# s = \"Thomas Jefferson's coming home\"\n",
    "# s.replace(\"Thomas Jefferson\", \"George Washington\").replace(\"coming\", \"going\") #Output: George Washington's going home\n",
    "\n",
    "###Join and splitting\n",
    "#print(\",\").join([\"Butcher\", \"Baker\", \"Candlestick maker\"])\n",
    "\n",
    "# print(\"Georgetown university law center\".split()) #Output: ['Georgetown', 'university', 'law', 'center']\n",
    "\n",
    "# print(\"Georgetown university law center\".split(\"a\")) #Output: ['Georgetown university l', 'w center']\n",
    "\n",
    "#you can split by different things\n",
    "#\"\"\" allows you to split the values into two lines \n",
    "#backslash + n is line break \n",
    "\n",
    "###F strings\n",
    "# name = \"A\"\n",
    "# age = 13\n",
    "\n",
    "# print(f\"My name is {name}, and I am {age} years old\")\n"
   ]
  },
  {
   "cell_type": "code",
   "execution_count": 26,
   "metadata": {},
   "outputs": [
    {
     "name": "stdout",
     "output_type": "stream",
     "text": [
      "[5, 10, 15]\n",
      "5\n",
      "10\n",
      "15\n"
     ]
    }
   ],
   "source": [
    "###For loops!\n",
    "#Create a list of singular nouns\n",
    "#nouns = [\"cat\", \"dog\", \"car\", \"tree\"]\n",
    "\n",
    "#COnvert the nouns in the list to plural, printing out the results\n",
    "#i = 0\n",
    "\n",
    "# while i < len(nouns):\n",
    "#     print(nouns[i]+ 's')\n",
    "#     i += 1\n",
    "#output cats, dogs, cars, trees but NOT efficient\n",
    "\n",
    "# for noun in nouns:\n",
    "#     print(noun + \"s\") #Same output as above but a lot easier\n",
    "\n",
    "# range example\n",
    "# for number in range(5):\n",
    "#     print(number)\n",
    "\n",
    "range_list = list(range(5,20,5))\n",
    "print(range_list)\n",
    "\n",
    "for i in range_list:\n",
    "    print(i) # you can call the variable(i) any name\n",
    "\n",
    "#External library/packet can be used in my code by importing it (e.g. import process_justices)\n",
    "#To open a file in my code x = open('justices.csv').read().split('\\n')\n",
    "\n"
   ]
  }
 ],
 "metadata": {
  "kernelspec": {
   "display_name": "Python 3",
   "language": "python",
   "name": "python3"
  },
  "language_info": {
   "codemirror_mode": {
    "name": "ipython",
    "version": 3
   },
   "file_extension": ".py",
   "mimetype": "text/x-python",
   "name": "python",
   "nbconvert_exporter": "python",
   "pygments_lexer": "ipython3",
   "version": "3.12.1"
  }
 },
 "nbformat": 4,
 "nbformat_minor": 2
}
