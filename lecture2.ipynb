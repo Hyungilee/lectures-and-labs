{
 "cells": [
  {
   "cell_type": "code",
   "execution_count": 3,
   "metadata": {},
   "outputs": [
    {
     "name": "stdout",
     "output_type": "stream",
     "text": [
      "Access not granted\n"
     ]
    }
   ],
   "source": [
    "#Going back to Boolean \n",
    "#Step 1\n",
    "username=input('Username: ')\n",
    "password=input('Password: ')\n",
    "\n",
    "#Step 2\n",
    "larry_match=(username == 'larry') and (password == 'coding_is_fun')\n",
    "\n",
    "#Step 3: If statement\n",
    "if larry_match:\n",
    "    print(\"Access granted\")\n",
    "else: \n",
    "    print(\"Access denied\")\n"
   ]
  }
 ],
 "metadata": {
  "kernelspec": {
   "display_name": "Python 3",
   "language": "python",
   "name": "python3"
  },
  "language_info": {
   "codemirror_mode": {
    "name": "ipython",
    "version": 3
   },
   "file_extension": ".py",
   "mimetype": "text/x-python",
   "name": "python",
   "nbconvert_exporter": "python",
   "pygments_lexer": "ipython3",
   "version": "3.12.1"
  }
 },
 "nbformat": 4,
 "nbformat_minor": 2
}
