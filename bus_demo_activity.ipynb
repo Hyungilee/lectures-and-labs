{
 "cells": [
  {
   "cell_type": "code",
   "execution_count": 7,
   "metadata": {},
   "outputs": [
    {
     "name": "stdout",
     "output_type": "stream",
     "text": [
      "You will need 3 buses\n"
     ]
    }
   ],
   "source": [
    "BUS_CAPACITY = 12\n",
    "\n",
    "#number of children\n",
    "number_of_children = int(input(\"Number of children: \"))\n",
    "\n",
    "#number of buses\n",
    "number_of_buses = number_of_children // BUS_CAPACITY\n",
    "#// cuts off the 소숫점\n",
    "\n",
    "number_left_over = number_of_children % BUS_CAPACITY\n",
    "#% gives you the leftover number after the division\n",
    "\n",
    "if number_left_over > 0:\n",
    "    number_of_buses_needed = number_of_buses + 1\n",
    "\n",
    "print(\"You will need\", number_of_buses_needed, \"buses\")\n"
   ]
  }
 ],
 "metadata": {
  "kernelspec": {
   "display_name": "Python 3",
   "language": "python",
   "name": "python3"
  },
  "language_info": {
   "codemirror_mode": {
    "name": "ipython",
    "version": 3
   },
   "file_extension": ".py",
   "mimetype": "text/x-python",
   "name": "python",
   "nbconvert_exporter": "python",
   "pygments_lexer": "ipython3",
   "version": "3.12.1"
  }
 },
 "nbformat": 4,
 "nbformat_minor": 2
}
