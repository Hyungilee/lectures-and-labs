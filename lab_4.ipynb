{
 "cells": [
  {
   "cell_type": "code",
   "execution_count": 3,
   "metadata": {},
   "outputs": [
    {
     "name": "stdout",
     "output_type": "stream",
     "text": [
      "oven\n"
     ]
    }
   ],
   "source": [
    "#Feedback on the last assignment\n",
    "# year = int(input(\"In what year was the work published? \"))\n",
    "\n",
    "# while year < 1922: \n",
    "#     print(\"The year input must be a number greater than 1922\")\n",
    "#     year = int(input(\"in what year...\"))\n",
    "\n",
    "# print(\"Successful input!\")\n",
    "\n",
    "#Slices\n",
    "#phone = '202-123-4567'\n",
    "\n",
    "# print('Index | Corresponding String Value')\n",
    "# for i in range(len(phone)):\n",
    "#     print(i, \"|\", phone[i])\n",
    "\n",
    "# phone = '2#02-123-45&67'\n",
    "# punctuation = '#&%()'\n",
    "\n",
    "# #replace the punctuations\n",
    "# for character in punctuation:\n",
    "#     phone.replace(character, \"\")\n",
    "\n",
    "# print(phone)\n",
    "\n",
    "#phone = '202-123-4567'\n",
    "# just print first 3\n",
    "#print(phone[0:3])\n",
    "\n",
    "#How slice works: sequence[start:stop:step]\n",
    "#if you want the last digit - you can do +1 of the index OR you could just leave it blank \n",
    "\n",
    "# first = phone[ :3]\n",
    "# second = phone[3:7]\n",
    "# last = [8: ]\n",
    "\n",
    "# print(first,second,last)\n",
    "\n",
    "#Find function\n",
    "# assignment = \"ps5-clean\"\n",
    "# dash_index = assignment.find(\"-\")\n",
    "# print(dash_index)\n",
    "\n",
    "# #assignment[dash_index+1: ] #output = clean\n",
    "\n",
    "# assignment[dash_index+len(\"ps5\"): ] #output = ean\n",
    "\n",
    "#Activity: split the email into username, domain, extension\n",
    "#can split by @ and . \n",
    "\n",
    "# email = 'hl992@georgetown.edu'\n",
    "# at_index = email.find(\"@\")\n",
    "# username = email[ :at_index]\n",
    "# #print(username)\n",
    "\n",
    "# domain_index = email.find(\".\")\n",
    "# domain = email[at_index+1:domain_index]\n",
    "# #print(domain)\n",
    "\n",
    "# extention = email[domain_index+1: ]\n",
    "# print(extention)\n",
    "\n",
    "correct_words = [\"microwave\",\"oven\",\"fridge\",\"toaster\"]\n",
    "misspelled_word = \"ovefn\"\n",
    "\n",
    "for charcter_index in range(len(misspelled_word)):\n",
    "    candidate = misspelled_word[ :charcter_index] + misspelled_word[charcter_index+1: ] #Slicing the misselled word and rejoining it to check all the options of -1 syllable\n",
    "    if candidate in correct_words:\n",
    "        print(candidate)\n",
    "\n",
    "\n",
    "\n",
    "\n",
    "\n",
    "\n",
    "\n",
    "\n",
    "\n"
   ]
  }
 ],
 "metadata": {
  "kernelspec": {
   "display_name": "Python 3",
   "language": "python",
   "name": "python3"
  },
  "language_info": {
   "codemirror_mode": {
    "name": "ipython",
    "version": 3
   },
   "file_extension": ".py",
   "mimetype": "text/x-python",
   "name": "python",
   "nbconvert_exporter": "python",
   "pygments_lexer": "ipython3",
   "version": "3.12.1"
  }
 },
 "nbformat": 4,
 "nbformat_minor": 2
}
