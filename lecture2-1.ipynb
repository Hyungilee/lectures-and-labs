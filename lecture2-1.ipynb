{
 "cells": [
  {
   "cell_type": "code",
   "execution_count": 3,
   "metadata": {},
   "outputs": [
    {
     "name": "stdout",
     "output_type": "stream",
     "text": [
      "above 12\n"
     ]
    }
   ],
   "source": [
    "STANDARD_DEDUCTION = 12400\n",
    "\n",
    "total_income = int(input(\"Enter your income: \"))\n",
    "\n",
    "taxable_income = total_income - STANDARD_DEDUCTION\n",
    "\n",
    "if taxable_income <= 9875:\n",
    "    rate = 10\n",
    "elif taxable_income <= 46125: \n",
    "    rate = 12\n",
    "else:\n",
    "    rate = \"above 12\"\n",
    "\n",
    "print(rate)\n",
    "\n",
    "\n"
   ]
  },
  {
   "cell_type": "code",
   "execution_count": 6,
   "metadata": {},
   "outputs": [
    {
     "name": "stdout",
     "output_type": "stream",
     "text": [
      "Hello, world! Number:  0\n",
      "Hello, world! Number:  1\n",
      "Hello, world! Number:  2\n",
      "Hello, world! Number:  3\n",
      "Hello, world! Number:  4\n"
     ]
    }
   ],
   "source": [
    "#While loops - 'while something is true, do X'\n",
    "i = 0\n",
    "\n",
    "while i < 5:\n",
    "    print('Hello, world! Number: ', i)\n",
    "    i = i + 1"
   ]
  }
 ],
 "metadata": {
  "kernelspec": {
   "display_name": "Python 3",
   "language": "python",
   "name": "python3"
  },
  "language_info": {
   "codemirror_mode": {
    "name": "ipython",
    "version": 3
   },
   "file_extension": ".py",
   "mimetype": "text/x-python",
   "name": "python",
   "nbconvert_exporter": "python",
   "pygments_lexer": "ipython3",
   "version": "3.12.1"
  }
 },
 "nbformat": 4,
 "nbformat_minor": 2
}
