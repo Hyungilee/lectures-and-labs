{
 "cells": [
  {
   "cell_type": "code",
   "execution_count": 3,
   "metadata": {},
   "outputs": [
    {
     "name": "stdout",
     "output_type": "stream",
     "text": [
      "Hello, I am Eliza. What's on your mind?\n",
      "I don't understand\n",
      "\n"
     ]
    }
   ],
   "source": [
    "#If statements and whileloops\n",
    "\n",
    "#Eliza v1.\n",
    "\n",
    "#Eliza introduces itself and invites user input\n",
    "print(\"Hello, I am Eliza. What's on your mind?\")\n",
    "\n",
    "command = input(\"> \")\n",
    "\n",
    "#1. Eliza should stay engaged until told to quit. What should we use here?\n",
    "while True:\n",
    "\n",
    "#2. Eliza should give tailored responses to certain command keywords. What should we use here?\n",
    "    if command == 'Hello':\n",
    "        print(\"Hi, how are you?\")\n",
    "\n",
    "#3. Commands include: weather;\n",
    "    elif command == 'weather':\n",
    "        print(\"It is sunny today.\")\n",
    "\n",
    "#4. Eliza should say goodby when session is over\n",
    "    elif command == 'quit': \n",
    "        print(\"Good bye\")\n",
    "        break\n",
    "#5. Catch all response to anything else\n",
    "    else: \n",
    "        print(\"I don't understand\")\n",
    "\n",
    "    print()\n",
    "    command = input(\"> \")\n",
    "\n",
    "\n",
    "\n"
   ]
  }
 ],
 "metadata": {
  "kernelspec": {
   "display_name": "Python 3",
   "language": "python",
   "name": "python3"
  },
  "language_info": {
   "codemirror_mode": {
    "name": "ipython",
    "version": 3
   },
   "file_extension": ".py",
   "mimetype": "text/x-python",
   "name": "python",
   "nbconvert_exporter": "python",
   "pygments_lexer": "ipython3",
   "version": "3.12.1"
  }
 },
 "nbformat": 4,
 "nbformat_minor": 2
}
